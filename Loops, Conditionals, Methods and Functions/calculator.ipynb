{
 "cells": [
  {
   "cell_type": "markdown",
   "id": "9e50d6c5",
   "metadata": {},
   "source": [
    "### Calculadora"
   ]
  },
  {
   "cell_type": "code",
   "execution_count": null,
   "id": "04010918",
   "metadata": {},
   "outputs": [
    {
     "name": "stdout",
     "output_type": "stream",
     "text": [
      "\n",
      "********************** Python Calculator **********************\n",
      "\n",
      "Selecione o número da operação desejada: \n",
      "\n",
      "1 - Soma\n",
      "2 - Subtração\n",
      "3 - Multiplicação\n",
      "4 - Divisão\n",
      "\n",
      "\n",
      "1 + 2 = 3\n",
      "\n",
      "\n"
     ]
    }
   ],
   "source": [
    "print('\\n********************** Python Calculator **********************')\n",
    "\n",
    "def add(x,y):\n",
    "    return x + y\n",
    "\n",
    "def subtract(x,y):\n",
    "    return x - y\n",
    "\n",
    "def multiply(x,y):\n",
    "    return x * y\n",
    "\n",
    "def divide(x,y):\n",
    "    return x / y\n",
    "\n",
    "print('\\nSelecione o número da operação desejada: \\n')\n",
    "print('1 - Soma')\n",
    "print('2 - Subtração')\n",
    "print('3 - Multiplicação')\n",
    "print('4 - Divisão')\n",
    "\n",
    "escolha = input('\\nDigite sua opção (1/2/3/4): ')\n",
    "\n",
    "num1 = int(input('\\nDigite o primeiro número: '))\n",
    "num2 = int(input('\\nDigite o segundo número: '))\n",
    "\n",
    "if escolha == '1':\n",
    "    print('\\n')\n",
    "    print(num1, '+', num2, '=', add(num1, num2))\n",
    "    print('\\n')\n",
    "\n",
    "elif escolha == '2':\n",
    "    print('\\n')\n",
    "    print(num1, '-', num2, '=', subtract(num1,num2))\n",
    "    print('\\n')\n",
    "\n",
    "elif escolha == '3':\n",
    "    print('\\n')\n",
    "    print(num1, '*', num2, \"=\", subtract(num1, num2))\n",
    "    print('\\n')\n",
    "\n",
    "elif escolha == '4':\n",
    "    print('\\n')\n",
    "    print(num1, '/', num2, '=', divide(num1,num2))\n",
    "    print('\\n')"
   ]
  }
 ],
 "metadata": {
  "kernelspec": {
   "display_name": "base",
   "language": "python",
   "name": "python3"
  },
  "language_info": {
   "codemirror_mode": {
    "name": "ipython",
    "version": 3
   },
   "file_extension": ".py",
   "mimetype": "text/x-python",
   "name": "python",
   "nbconvert_exporter": "python",
   "pygments_lexer": "ipython3",
   "version": "3.12.7"
  }
 },
 "nbformat": 4,
 "nbformat_minor": 5
}
