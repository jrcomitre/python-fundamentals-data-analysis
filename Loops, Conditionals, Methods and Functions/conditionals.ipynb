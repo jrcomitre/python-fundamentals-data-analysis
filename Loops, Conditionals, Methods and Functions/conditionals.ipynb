{
 "cells": [
  {
   "cell_type": "markdown",
   "id": "34763b7a",
   "metadata": {},
   "source": [
    "### Condicional If"
   ]
  },
  {
   "cell_type": "code",
   "execution_count": null,
   "id": "4a91f815",
   "metadata": {
    "vscode": {
     "languageId": "plaintext"
    }
   },
   "outputs": [],
   "source": []
  }
 ],
 "metadata": {
  "language_info": {
   "name": "python"
  }
 },
 "nbformat": 4,
 "nbformat_minor": 5
}
