{
 "cells": [
  {
   "cell_type": "markdown",
   "id": "34763b7a",
   "metadata": {},
   "source": [
    "### Condicional If"
   ]
  },
  {
   "cell_type": "code",
   "execution_count": 1,
   "id": "4a91f815",
   "metadata": {},
   "outputs": [
    {
     "name": "stdout",
     "output_type": "stream",
     "text": [
      "A sentença é verdadeira\n"
     ]
    }
   ],
   "source": [
    "# Condicional If (Se)\n",
    "if 5 > 2:\n",
    "    print(\"A sentença é verdadeira\")"
   ]
  },
  {
   "cell_type": "code",
   "execution_count": 2,
   "id": "ec18d6b3",
   "metadata": {},
   "outputs": [
    {
     "name": "stdout",
     "output_type": "stream",
     "text": [
      "A sentença é falsa\n"
     ]
    }
   ],
   "source": [
    "# Condicional If...Else\n",
    "if 5 < 2:\n",
    "    print(\"A sentença é verdadeira\")\n",
    "else:\n",
    "    print(\"A sentença é falsa\")"
   ]
  },
  {
   "cell_type": "code",
   "execution_count": 7,
   "id": "2d203179",
   "metadata": {},
   "outputs": [
    {
     "name": "stdout",
     "output_type": "stream",
     "text": [
      "Hoje vai chover!\n"
     ]
    }
   ],
   "source": [
    "# Condicional If...Else com variável\n",
    "dia = \"Terça\"\n",
    "if dia == \"Segunda\":\n",
    "    print(\"Hoje fara sol!\")\n",
    "else:\n",
    "    print(\"Hoje vai chover!\")"
   ]
  },
  {
   "cell_type": "code",
   "execution_count": 10,
   "id": "ccd8cf0b",
   "metadata": {},
   "outputs": [
    {
     "name": "stdout",
     "output_type": "stream",
     "text": [
      "Hoje vai chover!\n"
     ]
    }
   ],
   "source": [
    "# Podemos usar o operador elif para validar mais de uma condição\n",
    "if dia == \"Segunda\":\n",
    "    print(\"Hoje fará sol!\")\n",
    "elif dia == \"Terça\":\n",
    "    print(\"Hoje vai chover!\")\n",
    "else:\n",
    "    print(\"Sem previsão do tempo para o dia selecionado\")"
   ]
  },
  {
   "cell_type": "markdown",
   "id": "d857b89a",
   "metadata": {},
   "source": [
    "### Operadores Relacionais"
   ]
  },
  {
   "cell_type": "code",
   "execution_count": 11,
   "id": "b80e5e90",
   "metadata": {},
   "outputs": [
    {
     "data": {
      "text/plain": [
       "True"
      ]
     },
     "execution_count": 11,
     "metadata": {},
     "output_type": "execute_result"
    }
   ],
   "source": [
    "6 >3"
   ]
  },
  {
   "cell_type": "code",
   "execution_count": 12,
   "id": "f6a37cd5",
   "metadata": {},
   "outputs": [
    {
     "data": {
      "text/plain": [
       "False"
      ]
     },
     "execution_count": 12,
     "metadata": {},
     "output_type": "execute_result"
    }
   ],
   "source": [
    "3 > 7"
   ]
  },
  {
   "cell_type": "code",
   "execution_count": 13,
   "id": "2ccc5137",
   "metadata": {},
   "outputs": [
    {
     "data": {
      "text/plain": [
       "True"
      ]
     },
     "execution_count": 13,
     "metadata": {},
     "output_type": "execute_result"
    }
   ],
   "source": [
    "4 < 8"
   ]
  },
  {
   "cell_type": "code",
   "execution_count": 14,
   "id": "14ba801d",
   "metadata": {},
   "outputs": [
    {
     "data": {
      "text/plain": [
       "True"
      ]
     },
     "execution_count": 14,
     "metadata": {},
     "output_type": "execute_result"
    }
   ],
   "source": [
    "4 >= 4"
   ]
  },
  {
   "cell_type": "code",
   "execution_count": 16,
   "id": "169d2a00",
   "metadata": {},
   "outputs": [
    {
     "name": "stdout",
     "output_type": "stream",
     "text": [
      "testando Python!\n"
     ]
    }
   ],
   "source": [
    "if 5 == 5:\n",
    "    print(\"testando Python!\")"
   ]
  },
  {
   "cell_type": "code",
   "execution_count": 17,
   "id": "5dd049b4",
   "metadata": {},
   "outputs": [
    {
     "name": "stdout",
     "output_type": "stream",
     "text": [
      "Parece que Python funciona!\n"
     ]
    }
   ],
   "source": [
    "if True:\n",
    "    print(\"Parece que Python funciona!\")"
   ]
  },
  {
   "cell_type": "code",
   "execution_count": 18,
   "id": "a48b8dcd",
   "metadata": {},
   "outputs": [
    {
     "ename": "SyntaxError",
     "evalue": "expected ':' (2158862362.py, line 2)",
     "output_type": "error",
     "traceback": [
      "\u001b[1;36m  Cell \u001b[1;32mIn[18], line 2\u001b[1;36m\u001b[0m\n\u001b[1;33m    if 4 > 3\u001b[0m\n\u001b[1;37m            ^\u001b[0m\n\u001b[1;31mSyntaxError\u001b[0m\u001b[1;31m:\u001b[0m expected ':'\n"
     ]
    }
   ],
   "source": [
    "# Atenção com a sintaxe\n",
    "if 4 > 3\n",
    "    print(\"Tudo funciona\")"
   ]
  },
  {
   "cell_type": "code",
   "execution_count": 19,
   "id": "eaa07b52",
   "metadata": {},
   "outputs": [
    {
     "name": "stdout",
     "output_type": "stream",
     "text": [
      "Tudo funciona\n"
     ]
    }
   ],
   "source": [
    "# Atenção com a sintaxe\n",
    "if 4 > 3:\n",
    "    print(\"Tudo funciona\")"
   ]
  },
  {
   "cell_type": "markdown",
   "id": "c0b5ec7c",
   "metadata": {},
   "source": [
    "### Condicionais Aninhados"
   ]
  },
  {
   "cell_type": "code",
   "execution_count": 21,
   "id": "5ffa5da6",
   "metadata": {},
   "outputs": [
    {
     "name": "stdout",
     "output_type": "stream",
     "text": [
      "Você pode dirigir!\n"
     ]
    }
   ],
   "source": [
    "idade = 18\n",
    "if idade > 17:\n",
    "    print(\"Você pode dirigir!\")"
   ]
  },
  {
   "cell_type": "code",
   "execution_count": null,
   "id": "b3b9389d",
   "metadata": {},
   "outputs": [
    {
     "name": "stdout",
     "output_type": "stream",
     "text": [
      "Ok Bob, você esta autorizado a entrar!\n"
     ]
    }
   ],
   "source": [
    "nome = \"Bob\"\n",
    "if idade > 13:\n",
    "    if nome == \"Bob\":\n",
    "        print(\"Ok Bob, você esta autorizado a entrar!\")\n",
    "    else:\n",
    "        print(\"Desculpe, mas você não pode entrar!\")"
   ]
  },
  {
   "cell_type": "code",
   "execution_count": 24,
   "id": "b7c914ad",
   "metadata": {},
   "outputs": [
    {
     "name": "stdout",
     "output_type": "stream",
     "text": [
      "Ok Bob, você pode entrar!\n"
     ]
    }
   ],
   "source": [
    "idade = 13\n",
    "nome = \"Bob\"\n",
    "if idade >= 13 and nome == \"Bob\":\n",
    "    print(\"Ok Bob, você pode entrar!\")"
   ]
  },
  {
   "cell_type": "code",
   "execution_count": 28,
   "id": "e7100ad9",
   "metadata": {},
   "outputs": [
    {
     "name": "stdout",
     "output_type": "stream",
     "text": [
      "Ok Bob, você esta autorizado a entrar!\n"
     ]
    }
   ],
   "source": [
    "idade = 12\n",
    "nome = \"Bob\"\n",
    "if (idade >= 13) or (nome == \"Bob\"):\n",
    "    print(\"Ok Bob, você esta autorizado a entrar!\")"
   ]
  },
  {
   "cell_type": "markdown",
   "id": "87b5caf7",
   "metadata": {},
   "source": [
    "### Operadores Lógicos"
   ]
  },
  {
   "cell_type": "code",
   "execution_count": null,
   "id": "69676e8c",
   "metadata": {},
   "outputs": [
    {
     "name": "stdout",
     "output_type": "stream",
     "text": [
      "Você pode dirigir!\n"
     ]
    }
   ],
   "source": [
    "idade = 18\n",
    "nome = 'Bob'\n",
    "if idade > 17:\n",
    "    print('Você pode dirigir!')"
   ]
  },
  {
   "cell_type": "code",
   "execution_count": null,
   "id": "5f2984d4",
   "metadata": {},
   "outputs": [
    {
     "name": "stdout",
     "output_type": "stream",
     "text": [
      "Autorizado\n"
     ]
    }
   ],
   "source": [
    "idade = 18\n",
    "if idade > 17 and nome == 'Bob':\n",
    "    print('Autorizado')"
   ]
  },
  {
   "cell_type": "code",
   "execution_count": null,
   "id": "d2581566",
   "metadata": {},
   "outputs": [
    {
     "name": "stdout",
     "output_type": "stream",
     "text": [
      "Isso está sendo impresso porque as duas condições são verdadeiras!\n"
     ]
    }
   ],
   "source": [
    " # Operador and\n",
    "\n",
    "numero = 4\n",
    "\n",
    "if (numero > 2) and (numero % 2 == 0):\n",
    "    print('Isso está sendo impresso porque as duas condições são verdadeiras!')"
   ]
  },
  {
   "cell_type": "code",
   "execution_count": null,
   "id": "e0382c3a",
   "metadata": {},
   "outputs": [
    {
     "name": "stdout",
     "output_type": "stream",
     "text": [
      "Isso esta sendo impresso porque uma das condições é falsa!\n"
     ]
    }
   ],
   "source": [
    " # Operador and\n",
    "\n",
    "numero = 4\n",
    "\n",
    "if (numero > 5) and (numero % 2 == 0):\n",
    "    print('Isso está sendo impresso porque as duas condições são verdadeiras!')\n",
    "else:\n",
    "    print('Isso esta sendo impresso porque uma das condições é falsa!')"
   ]
  },
  {
   "cell_type": "code",
   "execution_count": null,
   "id": "ad1c0a5a",
   "metadata": {},
   "outputs": [
    {
     "name": "stdout",
     "output_type": "stream",
     "text": [
      "Isso esta sendo impresso porque as duas condições são verdadeiras!\n"
     ]
    }
   ],
   "source": [
    "# Operador or\n",
    "\n",
    "numero = 4\n",
    "\n",
    "if (numero > 5) or (numero % 2 == 0):\n",
    "    print('Isso esta sendo impresso porque as duas condições são verdadeiras!')"
   ]
  },
  {
   "cell_type": "code",
   "execution_count": null,
   "id": "d17ee49a",
   "metadata": {},
   "outputs": [
    {
     "name": "stdout",
     "output_type": "stream",
     "text": [
      "Isso está sendo impresso porque as duas condições são verdadeiras!\n"
     ]
    }
   ],
   "source": [
    "# Operador not\n",
    "\n",
    "numero = 4\n",
    "\n",
    "if not (numero > 5) and (numero % 2 == 0):\n",
    "    print('Isso está sendo impresso porque as duas condições são verdadeiras!')\n",
    "else:\n",
    "    print('Isso esta sendo impresso porque uma das condições é falsa!')"
   ]
  },
  {
   "cell_type": "code",
   "execution_count": null,
   "id": "2499ca93",
   "metadata": {},
   "outputs": [
    {
     "name": "stdout",
     "output_type": "stream",
     "text": [
      "Isso esta sendo impresso porque as duas primeiros condições são verdadeiras ou a terceira é verdadeira!\n"
     ]
    }
   ],
   "source": [
    "# Operador and, or e not\n",
    "\n",
    "numero = 4\n",
    "\n",
    "if(not(numero > 5) and (numero % 2 == 0)) or (numero == 4):\n",
    "    print('Isso esta sendo impresso porque as duas primeiros condições são verdadeiras ou a terceira é verdadeira!')"
   ]
  },
  {
   "cell_type": "code",
   "execution_count": null,
   "id": "83bd4cc9",
   "metadata": {},
   "outputs": [
    {
     "name": "stdout",
     "output_type": "stream",
     "text": [
      "Você foi aprovado!\n"
     ]
    }
   ],
   "source": [
    "# Exemplo com uso de variáveis\n",
    "\n",
    "disciplina = 'Data Science'\n",
    "nota_final = 70\n",
    "\n",
    "if disciplina == 'Data Science' and nota_final >= 70:\n",
    "    print('Você foi aprovado!')\n",
    "else:\n",
    "    print('Lamento, acho que você precisa estudar mais!')"
   ]
  },
  {
   "cell_type": "code",
   "execution_count": null,
   "id": "e30c10a4",
   "metadata": {},
   "outputs": [
    {
     "name": "stdout",
     "output_type": "stream",
     "text": [
      "Lamento, acho que você precisa estudar mais!\n"
     ]
    }
   ],
   "source": [
    "# Usando mais de uma condição na cláusula if\n",
    "\n",
    "disciplina = 'Data Science'\n",
    "nota_final = 60\n",
    "\n",
    "if disciplina == 'Data Science' and nota_final >= 70:\n",
    "    print('Você foi aprovado!')\n",
    "else:\n",
    "    print('Lamento, acho que você precisa estudar mais!')\n"
   ]
  },
  {
   "cell_type": "code",
   "execution_count": 44,
   "id": "fec5fa60",
   "metadata": {},
   "outputs": [
    {
     "name": "stdout",
     "output_type": "stream",
     "text": [
      "Você foi aprovado em Data Science com média final 90!\n"
     ]
    }
   ],
   "source": [
    "# Usando mais de uma condição na cláusula if e introduzindo Placeholders\n",
    "\n",
    "disciplina = 'Data Science'\n",
    "nota_final = 90\n",
    "semestre = 2\n",
    "\n",
    "if disciplina == \"Data Science\" and nota_final >= 80 and semestre != 1:\n",
    "    print('Você foi aprovado em %s com média final %r!' % (disciplina, nota_final))\n",
    "else:\n",
    "    print('Lamento, acho que você precisa estudar mais!')"
   ]
  },
  {
   "cell_type": "markdown",
   "id": "f7230848",
   "metadata": {},
   "source": [
    "### Fim"
   ]
  }
 ],
 "metadata": {
  "kernelspec": {
   "display_name": "base",
   "language": "python",
   "name": "python3"
  },
  "language_info": {
   "codemirror_mode": {
    "name": "ipython",
    "version": 3
   },
   "file_extension": ".py",
   "mimetype": "text/x-python",
   "name": "python",
   "nbconvert_exporter": "python",
   "pygments_lexer": "ipython3",
   "version": "3.12.7"
  }
 },
 "nbformat": 4,
 "nbformat_minor": 5
}
