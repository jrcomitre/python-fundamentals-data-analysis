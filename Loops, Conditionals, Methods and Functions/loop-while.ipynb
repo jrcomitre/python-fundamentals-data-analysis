{
 "cells": [
  {
   "cell_type": "markdown",
   "id": "54fbf1fd",
   "metadata": {},
   "source": [
    "### Loop While"
   ]
  },
  {
   "cell_type": "code",
   "execution_count": 1,
   "id": "c8a41c39",
   "metadata": {},
   "outputs": [
    {
     "name": "stdout",
     "output_type": "stream",
     "text": [
      "0\n",
      "1\n",
      "2\n",
      "3\n",
      "4\n",
      "5\n",
      "6\n",
      "7\n",
      "8\n",
      "9\n"
     ]
    }
   ],
   "source": [
    "# Usando o loop while para imprimir os valores de 0 a 9\n",
    "# A condição tem que deixar de ser verdadeira dentro do loop, senão pode travar o navegador ou mesmo o computador\n",
    "\n",
    "valor = 0\n",
    "\n",
    "while valor < 10:\n",
    "    print(valor)\n",
    "    valor = valor +1"
   ]
  },
  {
   "cell_type": "code",
   "execution_count": 4,
   "id": "fad8971a",
   "metadata": {},
   "outputs": [],
   "source": [
    "# Entra no loop aomente se a condição for verdadeira\n",
    "\n",
    "valor = 11\n",
    "while valor < 10:\n",
    "    print(valor)\n",
    "    valor = valor + 1"
   ]
  },
  {
   "cell_type": "code",
   "execution_count": 5,
   "id": "c24bc157",
   "metadata": {},
   "outputs": [
    {
     "name": "stdout",
     "output_type": "stream",
     "text": [
      "O valor de x nesta iteração é:  0\n",
      "x ainda é menor que 10, somando 1 a x\n",
      "O valor de x nesta iteração é:  1\n",
      "x ainda é menor que 10, somando 1 a x\n",
      "O valor de x nesta iteração é:  2\n",
      "x ainda é menor que 10, somando 1 a x\n",
      "O valor de x nesta iteração é:  3\n",
      "x ainda é menor que 10, somando 1 a x\n",
      "O valor de x nesta iteração é:  4\n",
      "x ainda é menor que 10, somando 1 a x\n",
      "O valor de x nesta iteração é:  5\n",
      "x ainda é menor que 10, somando 1 a x\n",
      "O valor de x nesta iteração é:  6\n",
      "x ainda é menor que 10, somando 1 a x\n",
      "O valor de x nesta iteração é:  7\n",
      "x ainda é menor que 10, somando 1 a x\n",
      "O valor de x nesta iteração é:  8\n",
      "x ainda é menor que 10, somando 1 a x\n",
      "O valor de x nesta iteração é:  9\n",
      "x ainda é menor que 10, somando 1 a x\n",
      "Loop concluído\n",
      "10\n"
     ]
    }
   ],
   "source": [
    "# Também é possível usar a cláusula else para encerrar o loop while\n",
    "x = 0\n",
    "\n",
    "while x < 10:\n",
    "    print('O valor de x nesta iteração é: ', x)\n",
    "    print('x ainda é menor que 10, somando 1 a x')\n",
    "    x += 1\n",
    "else:\n",
    "    print('Loop concluído')\n",
    "print(x)"
   ]
  },
  {
   "cell_type": "markdown",
   "id": "b398ba24",
   "metadata": {},
   "source": [
    "### Pass, Break, Continue"
   ]
  },
  {
   "cell_type": "code",
   "execution_count": 6,
   "id": "c9c82e0a",
   "metadata": {},
   "outputs": [
    {
     "name": "stdout",
     "output_type": "stream",
     "text": [
      "0\n",
      "1\n",
      "2\n",
      "3\n"
     ]
    }
   ],
   "source": [
    "# Se encontramos o número 4 interrompemos o loop\n",
    "valor = 0\n",
    "\n",
    "while valor < 10:\n",
    "    if valor == 4:\n",
    "        break\n",
    "    else:\n",
    "        pass\n",
    "    print(valor)\n",
    "    valor = valor + 1"
   ]
  },
  {
   "cell_type": "code",
   "execution_count": 7,
   "id": "3e92dcd7",
   "metadata": {},
   "outputs": [
    {
     "name": "stdout",
     "output_type": "stream",
     "text": [
      "P\n",
      "y\n",
      "t\n",
      "h\n",
      "o\n",
      "n\n",
      " \n",
      "é\n",
      " \n",
      " \n",
      "i\n",
      "n\n",
      "c\n",
      "r\n",
      "í\n",
      "v\n",
      "e\n",
      "l\n",
      "!\n"
     ]
    }
   ],
   "source": [
    "# Desconsideramos a letra z ao imprimir caracteres na frase\n",
    "for letra in 'Python é zzz incrível!':\n",
    "    if letra == 'z':\n",
    "        continue\n",
    "    print(letra)"
   ]
  },
  {
   "cell_type": "markdown",
   "id": "585d0153",
   "metadata": {},
   "source": [
    "### While e For Juntos\n",
    "Vamos encontrar números primos em uma coleção de números usando o While e For juntos.\n",
    "\n",
    "Um número primo é um natural maior do que 1 que é divisível por 1 e por ele mesmo. Isso significa que não há nenhum outro número inteiro que possa dividir o número primo sem deixar resto. Por exemplo, o número 2 é primo, pois é divisível apenas por 1 e 2. O número 4 não é primo, pois é divisível por 2."
   ]
  },
  {
   "cell_type": "code",
   "execution_count": null,
   "id": "9de2b0e3",
   "metadata": {},
   "outputs": [],
   "source": [
    "\n",
    "\n"
   ]
  }
 ],
 "metadata": {
  "kernelspec": {
   "display_name": "base",
   "language": "python",
   "name": "python3"
  },
  "language_info": {
   "codemirror_mode": {
    "name": "ipython",
    "version": 3
   },
   "file_extension": ".py",
   "mimetype": "text/x-python",
   "name": "python",
   "nbconvert_exporter": "python",
   "pygments_lexer": "ipython3",
   "version": "3.12.7"
  }
 },
 "nbformat": 4,
 "nbformat_minor": 5
}
