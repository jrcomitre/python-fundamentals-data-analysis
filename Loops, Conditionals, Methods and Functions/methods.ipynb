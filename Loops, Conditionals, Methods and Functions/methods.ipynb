{
 "cells": [
  {
   "cell_type": "markdown",
   "id": "28069f91",
   "metadata": {},
   "source": [
    "### Métodos\n",
    "Tudo em Python é objeto. E cada objeto tem métodos e atributos.\n",
    "\n",
    "Atributos são propriedades, características do objeto.\n",
    "Métodos são funções com ações que podem ser executados nos objetos."
   ]
  },
  {
   "cell_type": "code",
   "execution_count": 1,
   "id": "93321003",
   "metadata": {},
   "outputs": [],
   "source": [
    "# Criando uma lista\n",
    "lista = [100, -2, 12, 65, 0]"
   ]
  },
  {
   "cell_type": "code",
   "execution_count": null,
   "id": "a510c1c6",
   "metadata": {},
   "outputs": [],
   "source": []
  }
 ],
 "metadata": {
  "kernelspec": {
   "display_name": "base",
   "language": "python",
   "name": "python3"
  },
  "language_info": {
   "codemirror_mode": {
    "name": "ipython",
    "version": 3
   },
   "file_extension": ".py",
   "mimetype": "text/x-python",
   "name": "python",
   "nbconvert_exporter": "python",
   "pygments_lexer": "ipython3",
   "version": "3.12.7"
  }
 },
 "nbformat": 4,
 "nbformat_minor": 5
}
