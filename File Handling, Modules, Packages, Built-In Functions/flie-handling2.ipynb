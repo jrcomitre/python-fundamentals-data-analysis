{
 "cells": [
  {
   "cell_type": "markdown",
   "id": "dc0fdd26",
   "metadata": {},
   "source": [
    "### Manipulando Arquivos TXT"
   ]
  },
  {
   "cell_type": "code",
   "execution_count": 6,
   "id": "8256227d",
   "metadata": {},
   "outputs": [],
   "source": [
    "texto = 'Cientista de Dados pode ser uma excelente alternativa de carreira.\\n'\n",
    "texto = texto + 'Esses profissionais precisam saber como programar em Python.\\n'\n",
    "texto += 'E, claro, devem ser proeficientes em Data Science.'"
   ]
  },
  {
   "cell_type": "code",
   "execution_count": 12,
   "id": "efe5900e",
   "metadata": {},
   "outputs": [
    {
     "name": "stdout",
     "output_type": "stream",
     "text": [
      "Cientista de Dados pode ser uma excelente alternativa de carreira.\n",
      "Esses profissionais precisam saber como programar em Python.\n",
      "E, claro, devem ser proeficientes em Data Science.\n"
     ]
    }
   ],
   "source": [
    "print(texto)"
   ]
  },
  {
   "cell_type": "code",
   "execution_count": 3,
   "id": "67853d9c",
   "metadata": {},
   "outputs": [],
   "source": [
    "# Importando módulo os\n",
    "import os"
   ]
  },
  {
   "cell_type": "code",
   "execution_count": 13,
   "id": "e940aac7",
   "metadata": {},
   "outputs": [],
   "source": [
    "# Criando um arquivo\n",
    "arquivo = open(os.path.join(r'C:\\Users\\user\\Documents\\python-fundamentals-data-science\\data\\cientista.txt'), 'w')"
   ]
  },
  {
   "cell_type": "code",
   "execution_count": 14,
   "id": "f90a06e6",
   "metadata": {},
   "outputs": [],
   "source": [
    "# Gravando os dados no arquivo\n",
    "for palavra in texto.split():\n",
    "    arquivo.write(palavra + ' ')"
   ]
  },
  {
   "cell_type": "code",
   "execution_count": 15,
   "id": "14d87fbe",
   "metadata": {},
   "outputs": [],
   "source": [
    "# Fechando o arquivo\n",
    "arquivo.close()"
   ]
  },
  {
   "cell_type": "code",
   "execution_count": 16,
   "id": "d5750f31",
   "metadata": {},
   "outputs": [
    {
     "name": "stdout",
     "output_type": "stream",
     "text": [
      "Cientista de Dados pode ser uma excelente alternativa de carreira. Esses profissionais precisam saber como programar em Python. E, claro, devem ser proeficientes em Data Science. \n"
     ]
    }
   ],
   "source": [
    "# Lendo o arquivo\n",
    "arquivo = open(r'C:\\Users\\user\\Documents\\python-fundamentals-data-science\\data\\cientista.txt', 'r')\n",
    "conteudo = arquivo.read()\n",
    "arquivo.close()\n",
    "\n",
    "print(conteudo)"
   ]
  },
  {
   "cell_type": "markdown",
   "id": "3ee18d5f",
   "metadata": {},
   "source": [
    "### Usando a Expressão with\n",
    "\n",
    "O método close() é executado automaticamente"
   ]
  },
  {
   "cell_type": "code",
   "execution_count": 1,
   "id": "5d73cd8f",
   "metadata": {},
   "outputs": [],
   "source": [
    "with open (r'C:\\Users\\user\\Documents\\python-fundamentals-data-science\\data\\cientista.txt', 'r') as arquivo:\n",
    "    conteudo = arquivo.read()"
   ]
  },
  {
   "cell_type": "code",
   "execution_count": 2,
   "id": "aa340d3c",
   "metadata": {},
   "outputs": [
    {
     "name": "stdout",
     "output_type": "stream",
     "text": [
      "179\n"
     ]
    }
   ],
   "source": [
    "print(len(conteudo))"
   ]
  },
  {
   "cell_type": "code",
   "execution_count": 3,
   "id": "8eb86c22",
   "metadata": {},
   "outputs": [
    {
     "name": "stdout",
     "output_type": "stream",
     "text": [
      "Cientista de Dados pode ser uma excelente alternativa de carreira. Esses profissionais precisam saber como programar em Python. E, claro, devem ser proeficientes em Data Science. \n"
     ]
    }
   ],
   "source": [
    "print(conteudo)"
   ]
  },
  {
   "cell_type": "code",
   "execution_count": 7,
   "id": "3edbbe62",
   "metadata": {},
   "outputs": [],
   "source": [
    "with open(r'C:\\Users\\user\\Documents\\python-fundamentals-data-science\\data\\cientista.txt', 'w') as arquivo:\n",
    "    arquivo.write(texto[:19])\n",
    "    arquivo.write('\\n')\n",
    "    arquivo.write(texto[28:66])"
   ]
  },
  {
   "cell_type": "code",
   "execution_count": 8,
   "id": "34f6d181",
   "metadata": {},
   "outputs": [
    {
     "name": "stdout",
     "output_type": "stream",
     "text": [
      "Cientista de Dados \n",
      "uma excelente alternativa de carreira.\n"
     ]
    }
   ],
   "source": [
    "# Lendo o arquivo\n",
    "arquivo = open(r'C:\\Users\\user\\Documents\\python-fundamentals-data-science\\data\\cientista.txt', 'r')\n",
    "conteudo = arquivo.read()\n",
    "arquivo.close()\n",
    "print(conteudo)"
   ]
  },
  {
   "cell_type": "markdown",
   "id": "b5a4785f",
   "metadata": {},
   "source": [
    "### Manipulando arquivos CSV"
   ]
  },
  {
   "cell_type": "code",
   "execution_count": 9,
   "id": "9ca6a841",
   "metadata": {},
   "outputs": [],
   "source": [
    "import csv"
   ]
  },
  {
   "cell_type": "code",
   "execution_count": 11,
   "id": "c95fe5a7",
   "metadata": {},
   "outputs": [],
   "source": [
    "with open(r'C:\\Users\\user\\Documents\\python-fundamentals-data-science\\data\\numeros.csv', 'w') as arquivo:\n",
    "    # Cria o objeto de gravação\n",
    "    writer = csv.writer(arquivo)\n",
    "\n",
    "    # Grava no arquivo linha a linha\n",
    "    writer.writerow(('note1', 'nota2', 'nota3'))\n",
    "    writer.writerow((63,87,92))\n",
    "    writer.writerow((61,79,76))\n",
    "    writer.writerow((72,64,91))"
   ]
  },
  {
   "cell_type": "code",
   "execution_count": 12,
   "id": "086424c4",
   "metadata": {},
   "outputs": [
    {
     "name": "stdout",
     "output_type": "stream",
     "text": [
      "['note1', 'nota2', 'nota3']\n",
      "['63', '87', '92']\n",
      "['61', '79', '76']\n",
      "['72', '64', '91']\n"
     ]
    }
   ],
   "source": [
    "# Leitura de arquivos csv\n",
    "\n",
    "with open(r'C:\\Users\\user\\Documents\\python-fundamentals-data-science\\data\\numeros.csv', 'r', encoding='UTF8', newline='\\r\\n') as arquivo:\n",
    "    leitor = csv.reader(arquivo)\n",
    "    for x in leitor:\n",
    "        print(x)"
   ]
  },
  {
   "cell_type": "code",
   "execution_count": 13,
   "id": "8639341f",
   "metadata": {},
   "outputs": [],
   "source": [
    "# Gerando uma lista com dados do arquivo CSV\n",
    "with open(r'C:\\Users\\user\\Documents\\python-fundamentals-data-science\\data\\numeros.csv','r') as arquivo:\n",
    "          leitor = csv.reader(arquivo)\n",
    "          dados = list(leitor)"
   ]
  },
  {
   "cell_type": "code",
   "execution_count": 14,
   "id": "9a1050fd",
   "metadata": {},
   "outputs": [
    {
     "name": "stdout",
     "output_type": "stream",
     "text": [
      "[['note1', 'nota2', 'nota3'], [], ['63', '87', '92'], [], ['61', '79', '76'], [], ['72', '64', '91'], []]\n"
     ]
    }
   ],
   "source": [
    "print(dados)"
   ]
  },
  {
   "cell_type": "code",
   "execution_count": 15,
   "id": "13a86ee0",
   "metadata": {},
   "outputs": [
    {
     "name": "stdout",
     "output_type": "stream",
     "text": [
      "[]\n",
      "['63', '87', '92']\n",
      "[]\n",
      "['61', '79', '76']\n",
      "[]\n",
      "['72', '64', '91']\n",
      "[]\n"
     ]
    }
   ],
   "source": [
    "# Imprimindo a partir da segunda linha\n",
    "for linha in dados[1:]:\n",
    "    print(linha)"
   ]
  },
  {
   "cell_type": "markdown",
   "id": "300a4ab6",
   "metadata": {},
   "source": [
    "### Manipulando arquivos JSON"
   ]
  },
  {
   "cell_type": "code",
   "execution_count": 11,
   "id": "7c811bed",
   "metadata": {},
   "outputs": [],
   "source": [
    "# Criando dicionário\n",
    "dict_guido = {'nome': 'Guido Van Rossum',\n",
    "              'linguagem': 'Python',\n",
    "              'similar': ['c', 'Modula-3', 'lisp'],\n",
    "               'users': 1000000}"
   ]
  },
  {
   "cell_type": "code",
   "execution_count": 12,
   "id": "fc4488de",
   "metadata": {},
   "outputs": [
    {
     "name": "stdout",
     "output_type": "stream",
     "text": [
      "nome Guido Van Rossum\n",
      "linguagem Python\n",
      "similar ['c', 'Modula-3', 'lisp']\n",
      "users 1000000\n"
     ]
    }
   ],
   "source": [
    "for k, v in dict_guido.items():\n",
    "    print(k,v)"
   ]
  },
  {
   "cell_type": "code",
   "execution_count": 13,
   "id": "33402def",
   "metadata": {},
   "outputs": [],
   "source": [
    "# Importando o módulo JSON\n",
    "import json"
   ]
  },
  {
   "cell_type": "code",
   "execution_count": 14,
   "id": "17a3a4aa",
   "metadata": {},
   "outputs": [
    {
     "data": {
      "text/plain": [
       "'{\"nome\": \"Guido Van Rossum\", \"linguagem\": \"Python\", \"similar\": [\"c\", \"Modula-3\", \"lisp\"], \"users\": 1000000}'"
      ]
     },
     "execution_count": 14,
     "metadata": {},
     "output_type": "execute_result"
    }
   ],
   "source": [
    "# Convertendo o dicionário para um objrto JSON\n",
    "json.dumps(dict_guido)"
   ]
  },
  {
   "cell_type": "code",
   "execution_count": 15,
   "id": "e17f1582",
   "metadata": {},
   "outputs": [],
   "source": [
    "# Criando um arquivo JSON\n",
    "with open (r'C:\\Users\\user\\Documents\\python-fundamentals-data-science\\data\\dados.json', 'w') as arquivo:\n",
    "    arquivo.write(json.dumps(dict_guido))"
   ]
  },
  {
   "cell_type": "code",
   "execution_count": 16,
   "id": "d2fa2cba",
   "metadata": {},
   "outputs": [],
   "source": [
    "# Leitura do arquivo JSON\n",
    "with open(r'C:\\Users\\user\\Documents\\python-fundamentals-data-science\\data\\dados.json', 'r') as arquivo:\n",
    "    texto = arquivo.read()\n",
    "    dados = json.loads(texto)"
   ]
  },
  {
   "cell_type": "code",
   "execution_count": 17,
   "id": "3300b677",
   "metadata": {},
   "outputs": [
    {
     "data": {
      "text/plain": [
       "{'nome': 'Guido Van Rossum',\n",
       " 'linguagem': 'Python',\n",
       " 'similar': ['c', 'Modula-3', 'lisp'],\n",
       " 'users': 1000000}"
      ]
     },
     "execution_count": 17,
     "metadata": {},
     "output_type": "execute_result"
    }
   ],
   "source": [
    "dados"
   ]
  },
  {
   "cell_type": "code",
   "execution_count": 18,
   "id": "598c0f6f",
   "metadata": {},
   "outputs": [
    {
     "name": "stdout",
     "output_type": "stream",
     "text": [
      "Guido Van Rossum\n"
     ]
    }
   ],
   "source": [
    "print(dados['nome'])"
   ]
  },
  {
   "cell_type": "markdown",
   "id": "5143f3f1",
   "metadata": {},
   "source": [
    "### Extração de arquivos da Web"
   ]
  },
  {
   "cell_type": "code",
   "execution_count": 19,
   "id": "03292071",
   "metadata": {},
   "outputs": [],
   "source": [
    "# Imprimindo um arquivo JSON copiado da internet\n",
    "from urllib.request import urlopen\n",
    "\n",
    "response = urlopen('http://vimeo.com/api/v2/video/57733101.json').read().decode('utf8')\n",
    "dados = json.loads(response)[0]"
   ]
  },
  {
   "cell_type": "code",
   "execution_count": 20,
   "id": "33cf0c2d",
   "metadata": {},
   "outputs": [
    {
     "data": {
      "text/plain": [
       "{'id': 57733101,\n",
       " 'title': 'The Good Man trailer',\n",
       " 'description': 'Trailer for the Manifesto Films production, The Good Man, now available in UK/Ireland/US/Canada/Australia/New Zealand on iTunes (https://itunes.apple.com/us/movie/the-good-man/id873130906) and DVD (http://www.amazon.co.uk/The-Good-Man-Aiden-Gillen/dp/B00IIK6CGU/). Co-production with Jet Black Entertainment (South Africa). Starring Aidan Gillen, Thabang Sidloyi, Kelly Campbell, Lunathi Mampofu. Written & directed by Phil Harrison. More info at www.thegoodmanfilm.com<br />\\r\\n<br />\\r\\nCheck out the Variety Magazine review here: http://www.variety.com/review/VE1117947909/',\n",
       " 'url': 'https://vimeo.com/57733101',\n",
       " 'upload_date': '2013-01-19 04:01:15',\n",
       " 'thumbnail_small': 'https://i.vimeocdn.com/video/436057121-e828a1f5478ec0136e957753d107f2a1268c64def9b82faac37c8e30c031cff2-d_100x75?region=us',\n",
       " 'thumbnail_medium': 'https://i.vimeocdn.com/video/436057121-e828a1f5478ec0136e957753d107f2a1268c64def9b82faac37c8e30c031cff2-d_200x150?region=us',\n",
       " 'thumbnail_large': 'https://i.vimeocdn.com/video/436057121-e828a1f5478ec0136e957753d107f2a1268c64def9b82faac37c8e30c031cff2-d_640?region=us',\n",
       " 'user_id': 1334563,\n",
       " 'user_name': 'Manifesto Films',\n",
       " 'user_url': 'https://vimeo.com/manifestofilms',\n",
       " 'user_portrait_small': 'https://i.vimeocdn.com/portrait/4778306_30x30?sig=dce4bd41e32adf3305ffd0a161ae27a5c919bba5773cf2f2c3ca5be075726518&v=1&region=us',\n",
       " 'user_portrait_medium': 'https://i.vimeocdn.com/portrait/4778306_75x75?sig=dce4bd41e32adf3305ffd0a161ae27a5c919bba5773cf2f2c3ca5be075726518&v=1&region=us',\n",
       " 'user_portrait_large': 'https://i.vimeocdn.com/portrait/4778306_100x100?sig=dce4bd41e32adf3305ffd0a161ae27a5c919bba5773cf2f2c3ca5be075726518&v=1&region=us',\n",
       " 'user_portrait_huge': 'https://i.vimeocdn.com/portrait/4778306_300x300?sig=dce4bd41e32adf3305ffd0a161ae27a5c919bba5773cf2f2c3ca5be075726518&v=1&region=us',\n",
       " 'stats_number_of_likes': 19,\n",
       " 'stats_number_of_plays': 6943,\n",
       " 'stats_number_of_comments': 2,\n",
       " 'duration': 143,\n",
       " 'width': 1024,\n",
       " 'height': 576,\n",
       " 'tags': 'belfast, cape town, africa, ireland, film',\n",
       " 'embed_privacy': 'anywhere'}"
      ]
     },
     "execution_count": 20,
     "metadata": {},
     "output_type": "execute_result"
    }
   ],
   "source": [
    "dados"
   ]
  },
  {
   "cell_type": "code",
   "execution_count": 22,
   "id": "95431be3",
   "metadata": {},
   "outputs": [
    {
     "name": "stdout",
     "output_type": "stream",
     "text": [
      "Título:  The Good Man trailer\n",
      "URL:  https://vimeo.com/57733101\n",
      "Duração:  143\n",
      "Número Visualizações:  6943\n"
     ]
    }
   ],
   "source": [
    "print('Título: ', dados['title'])\n",
    "print('URL: ', dados['url'])\n",
    "print('Duração: ', dados['duration'])\n",
    "print('Número Visualizações: ', dados['stats_number_of_plays'])"
   ]
  },
  {
   "cell_type": "markdown",
   "id": "11faa70e",
   "metadata": {},
   "source": [
    "Copiando o conteúdo de um arquivo para o outro"
   ]
  },
  {
   "cell_type": "code",
   "execution_count": 23,
   "id": "4c213fa4",
   "metadata": {},
   "outputs": [],
   "source": [
    "# Nomes dos arquivos\n",
    "arquivo_fonte = r'C:\\Users\\user\\Documents\\python-fundamentals-data-science\\data\\dados.json'\n",
    "arquivo_destino  = r'C:\\Users\\user\\Documents\\python-fundamentals-data-science\\data\\dados.txt'"
   ]
  },
  {
   "cell_type": "code",
   "execution_count": 25,
   "id": "e576a9c1",
   "metadata": {},
   "outputs": [],
   "source": [
    "# Metodo 1\n",
    "with open(arquivo_fonte, 'r') as infile:\n",
    "    text = infile.read()\n",
    "    with open(arquivo_destino, 'w') as outfile:\n",
    "        outfile.write(text)"
   ]
  },
  {
   "cell_type": "code",
   "execution_count": 27,
   "id": "8fd271e6",
   "metadata": {},
   "outputs": [
    {
     "data": {
      "text/plain": [
       "107"
      ]
     },
     "execution_count": 27,
     "metadata": {},
     "output_type": "execute_result"
    }
   ],
   "source": [
    "# Método 2\n",
    "open(arquivo_destino, 'w').write(open(arquivo_fonte, 'r').read())"
   ]
  },
  {
   "cell_type": "code",
   "execution_count": 28,
   "id": "fcf0918d",
   "metadata": {},
   "outputs": [],
   "source": [
    "# Leitura do arquivo txt\n",
    "with open(r'C:\\Users\\user\\Documents\\python-fundamentals-data-science\\data\\dados.txt', 'r') as arquivo:\n",
    "    texto = arquivo.read()\n",
    "    dados = json.loads(texto)"
   ]
  },
  {
   "cell_type": "code",
   "execution_count": 29,
   "id": "42192713",
   "metadata": {},
   "outputs": [
    {
     "name": "stdout",
     "output_type": "stream",
     "text": [
      "{'nome': 'Guido Van Rossum', 'linguagem': 'Python', 'similar': ['c', 'Modula-3', 'lisp'], 'users': 1000000}\n"
     ]
    }
   ],
   "source": [
    "print(dados)"
   ]
  },
  {
   "cell_type": "code",
   "execution_count": null,
   "id": "7fa814f1",
   "metadata": {},
   "outputs": [],
   "source": []
  }
 ],
 "metadata": {
  "kernelspec": {
   "display_name": "base",
   "language": "python",
   "name": "python3"
  },
  "language_info": {
   "codemirror_mode": {
    "name": "ipython",
    "version": 3
   },
   "file_extension": ".py",
   "mimetype": "text/x-python",
   "name": "python",
   "nbconvert_exporter": "python",
   "pygments_lexer": "ipython3",
   "version": "3.12.7"
  }
 },
 "nbformat": 4,
 "nbformat_minor": 5
}
