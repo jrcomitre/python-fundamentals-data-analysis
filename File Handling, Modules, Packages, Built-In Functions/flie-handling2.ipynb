{
 "cells": [
  {
   "cell_type": "markdown",
   "id": "dc0fdd26",
   "metadata": {},
   "source": [
    "### Manipulando Arquivos TXT"
   ]
  },
  {
   "cell_type": "code",
   "execution_count": 6,
   "id": "8256227d",
   "metadata": {},
   "outputs": [],
   "source": [
    "texto = 'Cientista de Dados pode ser uma excelente alternativa de carreira.\\n'\n",
    "texto = texto + 'Esses profissionais precisam saber como programar em Python.\\n'\n",
    "texto += 'E, claro, devem ser proeficientes em Data Science.'"
   ]
  },
  {
   "cell_type": "code",
   "execution_count": 12,
   "id": "efe5900e",
   "metadata": {},
   "outputs": [
    {
     "name": "stdout",
     "output_type": "stream",
     "text": [
      "Cientista de Dados pode ser uma excelente alternativa de carreira.\n",
      "Esses profissionais precisam saber como programar em Python.\n",
      "E, claro, devem ser proeficientes em Data Science.\n"
     ]
    }
   ],
   "source": [
    "print(texto)"
   ]
  },
  {
   "cell_type": "code",
   "execution_count": 3,
   "id": "67853d9c",
   "metadata": {},
   "outputs": [],
   "source": [
    "# Importando módulo os\n",
    "import os"
   ]
  },
  {
   "cell_type": "code",
   "execution_count": 13,
   "id": "e940aac7",
   "metadata": {},
   "outputs": [],
   "source": [
    "# Criando um arquivo\n",
    "arquivo = open(os.path.join(r'C:\\Users\\user\\Documents\\python-fundamentals-data-science\\data\\cientista.txt'), 'w')"
   ]
  },
  {
   "cell_type": "code",
   "execution_count": 14,
   "id": "f90a06e6",
   "metadata": {},
   "outputs": [],
   "source": [
    "# Gravando os dados no arquivo\n",
    "for palavra in texto.split():\n",
    "    arquivo.write(palavra + ' ')"
   ]
  },
  {
   "cell_type": "code",
   "execution_count": 15,
   "id": "14d87fbe",
   "metadata": {},
   "outputs": [],
   "source": [
    "# Fechando o arquivo\n",
    "arquivo.close()"
   ]
  },
  {
   "cell_type": "code",
   "execution_count": 16,
   "id": "d5750f31",
   "metadata": {},
   "outputs": [
    {
     "name": "stdout",
     "output_type": "stream",
     "text": [
      "Cientista de Dados pode ser uma excelente alternativa de carreira. Esses profissionais precisam saber como programar em Python. E, claro, devem ser proeficientes em Data Science. \n"
     ]
    }
   ],
   "source": [
    "# Lendo o arquivo\n",
    "arquivo = open(r'C:\\Users\\user\\Documents\\python-fundamentals-data-science\\data\\cientista.txt', 'r')\n",
    "conteudo = arquivo.read()\n",
    "arquivo.close()\n",
    "\n",
    "print(conteudo)"
   ]
  },
  {
   "cell_type": "markdown",
   "id": "3ee18d5f",
   "metadata": {},
   "source": [
    "### Usando a Expressão with\n",
    "\n",
    "O método close() é executado automaticamente"
   ]
  },
  {
   "cell_type": "code",
   "execution_count": 1,
   "id": "5d73cd8f",
   "metadata": {},
   "outputs": [],
   "source": [
    "with open (r'C:\\Users\\user\\Documents\\python-fundamentals-data-science\\data\\cientista.txt', 'r') as arquivo:\n",
    "    conteudo = arquivo.read()"
   ]
  },
  {
   "cell_type": "code",
   "execution_count": 2,
   "id": "aa340d3c",
   "metadata": {},
   "outputs": [
    {
     "name": "stdout",
     "output_type": "stream",
     "text": [
      "179\n"
     ]
    }
   ],
   "source": [
    "print(len(conteudo))"
   ]
  },
  {
   "cell_type": "code",
   "execution_count": 3,
   "id": "8eb86c22",
   "metadata": {},
   "outputs": [
    {
     "name": "stdout",
     "output_type": "stream",
     "text": [
      "Cientista de Dados pode ser uma excelente alternativa de carreira. Esses profissionais precisam saber como programar em Python. E, claro, devem ser proeficientes em Data Science. \n"
     ]
    }
   ],
   "source": [
    "print(conteudo)"
   ]
  },
  {
   "cell_type": "code",
   "execution_count": 7,
   "id": "3edbbe62",
   "metadata": {},
   "outputs": [],
   "source": [
    "with open(r'C:\\Users\\user\\Documents\\python-fundamentals-data-science\\data\\cientista.txt', 'w') as arquivo:\n",
    "    arquivo.write(texto[:19])\n",
    "    arquivo.write('\\n')\n",
    "    arquivo.write(texto[28:66])"
   ]
  },
  {
   "cell_type": "code",
   "execution_count": 8,
   "id": "34f6d181",
   "metadata": {},
   "outputs": [
    {
     "name": "stdout",
     "output_type": "stream",
     "text": [
      "Cientista de Dados \n",
      "uma excelente alternativa de carreira.\n"
     ]
    }
   ],
   "source": [
    "# Lendo o arquivo\n",
    "arquivo = open(r'C:\\Users\\user\\Documents\\python-fundamentals-data-science\\data\\cientista.txt', 'r')\n",
    "conteudo = arquivo.read()\n",
    "arquivo.close()\n",
    "print(conteudo)"
   ]
  },
  {
   "cell_type": "markdown",
   "id": "b5a4785f",
   "metadata": {},
   "source": [
    "### Manipulando arquivos CSV"
   ]
  },
  {
   "cell_type": "code",
   "execution_count": 9,
   "id": "9ca6a841",
   "metadata": {},
   "outputs": [],
   "source": [
    "import csv"
   ]
  },
  {
   "cell_type": "code",
   "execution_count": null,
   "id": "c95fe5a7",
   "metadata": {},
   "outputs": [
    {
     "ename": "SyntaxError",
     "evalue": "expected ':' (1867829053.py, line 1)",
     "output_type": "error",
     "traceback": [
      "\u001b[1;36m  Cell \u001b[1;32mIn[10], line 1\u001b[1;36m\u001b[0m\n\u001b[1;33m    with open(r'C:\\Users\\user\\Documents\\python-fundamentals-data-science\\data\\numeros.csv', 'r')\u001b[0m\n\u001b[1;37m                                                                                                ^\u001b[0m\n\u001b[1;31mSyntaxError\u001b[0m\u001b[1;31m:\u001b[0m expected ':'\n"
     ]
    }
   ],
   "source": [
    "with open(r'C:\\Users\\user\\Documents\\python-fundamentals-data-science\\data\\numeros.csv', 'w') as arquivo\n",
    "writer = csv.writer(arquivo)\n",
    "writer.writerow(('note1', 'nota2', 'nota3'))\n",
    "writer.writerow((63,87,92))\n",
    "writer.writerow((61,79,76))\n",
    "writer.writerow((72,64,91))"
   ]
  },
  {
   "cell_type": "code",
   "execution_count": null,
   "id": "086424c4",
   "metadata": {},
   "outputs": [],
   "source": []
  }
 ],
 "metadata": {
  "kernelspec": {
   "display_name": "base",
   "language": "python",
   "name": "python3"
  },
  "language_info": {
   "codemirror_mode": {
    "name": "ipython",
    "version": 3
   },
   "file_extension": ".py",
   "mimetype": "text/x-python",
   "name": "python",
   "nbconvert_exporter": "python",
   "pygments_lexer": "ipython3",
   "version": "3.12.7"
  }
 },
 "nbformat": 4,
 "nbformat_minor": 5
}
