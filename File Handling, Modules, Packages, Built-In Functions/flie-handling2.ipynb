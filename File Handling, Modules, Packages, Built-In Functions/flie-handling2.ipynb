{
 "cells": [
  {
   "cell_type": "markdown",
   "id": "dc0fdd26",
   "metadata": {},
   "source": [
    "### Manipulando Arquivos TXT"
   ]
  },
  {
   "cell_type": "code",
   "execution_count": 6,
   "id": "8256227d",
   "metadata": {},
   "outputs": [],
   "source": [
    "texto = 'Cientista de Dados pode ser uma excelente alternativa de carreira.\\n'\n",
    "texto = texto + 'Esses profissionais precisam saber como programar em Python.\\n'\n",
    "texto += 'E, claro, devem ser proeficientes em Data Science.'"
   ]
  },
  {
   "cell_type": "code",
   "execution_count": 12,
   "id": "efe5900e",
   "metadata": {},
   "outputs": [
    {
     "name": "stdout",
     "output_type": "stream",
     "text": [
      "Cientista de Dados pode ser uma excelente alternativa de carreira.\n",
      "Esses profissionais precisam saber como programar em Python.\n",
      "E, claro, devem ser proeficientes em Data Science.\n"
     ]
    }
   ],
   "source": [
    "print(texto)"
   ]
  },
  {
   "cell_type": "code",
   "execution_count": 3,
   "id": "67853d9c",
   "metadata": {},
   "outputs": [],
   "source": [
    "# Importando módulo os\n",
    "import os"
   ]
  },
  {
   "cell_type": "code",
   "execution_count": 13,
   "id": "e940aac7",
   "metadata": {},
   "outputs": [],
   "source": [
    "# Criando um arquivo\n",
    "arquivo = open(os.path.join(r'C:\\Users\\user\\Documents\\python-fundamentals-data-science\\data\\cientista.txt'), 'w')"
   ]
  },
  {
   "cell_type": "code",
   "execution_count": 14,
   "id": "f90a06e6",
   "metadata": {},
   "outputs": [],
   "source": [
    "# Gravando os dados no arquivo\n",
    "for palavra in texto.split():\n",
    "    arquivo.write(palavra + ' ')"
   ]
  },
  {
   "cell_type": "code",
   "execution_count": 15,
   "id": "14d87fbe",
   "metadata": {},
   "outputs": [],
   "source": [
    "# Fechando o arquivo\n",
    "arquivo.close()"
   ]
  },
  {
   "cell_type": "code",
   "execution_count": 16,
   "id": "d5750f31",
   "metadata": {},
   "outputs": [
    {
     "name": "stdout",
     "output_type": "stream",
     "text": [
      "Cientista de Dados pode ser uma excelente alternativa de carreira. Esses profissionais precisam saber como programar em Python. E, claro, devem ser proeficientes em Data Science. \n"
     ]
    }
   ],
   "source": [
    "# Lendo o arquivo\n",
    "arquivo = open(r'C:\\Users\\user\\Documents\\python-fundamentals-data-science\\data\\cientista.txt', 'r')\n",
    "conteudo = arquivo.read()\n",
    "arquivo.close()\n",
    "\n",
    "print(conteudo)"
   ]
  },
  {
   "cell_type": "markdown",
   "id": "3ee18d5f",
   "metadata": {},
   "source": [
    "### Usando a Expressão with\n",
    "\n",
    "O método close() é executado automaticamente"
   ]
  },
  {
   "cell_type": "code",
   "execution_count": 1,
   "id": "5d73cd8f",
   "metadata": {},
   "outputs": [],
   "source": [
    "with open (r'C:\\Users\\user\\Documents\\python-fundamentals-data-science\\data\\cientista.txt', 'r') as arquivo:\n",
    "    conteudo = arquivo.read()"
   ]
  },
  {
   "cell_type": "code",
   "execution_count": 2,
   "id": "aa340d3c",
   "metadata": {},
   "outputs": [
    {
     "name": "stdout",
     "output_type": "stream",
     "text": [
      "179\n"
     ]
    }
   ],
   "source": [
    "print(len(conteudo))"
   ]
  },
  {
   "cell_type": "code",
   "execution_count": 3,
   "id": "8eb86c22",
   "metadata": {},
   "outputs": [
    {
     "name": "stdout",
     "output_type": "stream",
     "text": [
      "Cientista de Dados pode ser uma excelente alternativa de carreira. Esses profissionais precisam saber como programar em Python. E, claro, devem ser proeficientes em Data Science. \n"
     ]
    }
   ],
   "source": [
    "print(conteudo)"
   ]
  },
  {
   "cell_type": "code",
   "execution_count": 7,
   "id": "3edbbe62",
   "metadata": {},
   "outputs": [],
   "source": [
    "with open(r'C:\\Users\\user\\Documents\\python-fundamentals-data-science\\data\\cientista.txt', 'w') as arquivo:\n",
    "    arquivo.write(texto[:19])\n",
    "    arquivo.write('\\n')\n",
    "    arquivo.write(texto[28:66])"
   ]
  },
  {
   "cell_type": "code",
   "execution_count": 8,
   "id": "34f6d181",
   "metadata": {},
   "outputs": [
    {
     "name": "stdout",
     "output_type": "stream",
     "text": [
      "Cientista de Dados \n",
      "uma excelente alternativa de carreira.\n"
     ]
    }
   ],
   "source": [
    "# Lendo o arquivo\n",
    "arquivo = open(r'C:\\Users\\user\\Documents\\python-fundamentals-data-science\\data\\cientista.txt', 'r')\n",
    "conteudo = arquivo.read()\n",
    "arquivo.close()\n",
    "print(conteudo)"
   ]
  },
  {
   "cell_type": "markdown",
   "id": "b5a4785f",
   "metadata": {},
   "source": [
    "### Manipulando arquivos CSV"
   ]
  },
  {
   "cell_type": "code",
   "execution_count": 9,
   "id": "9ca6a841",
   "metadata": {},
   "outputs": [],
   "source": [
    "import csv"
   ]
  },
  {
   "cell_type": "code",
   "execution_count": 11,
   "id": "c95fe5a7",
   "metadata": {},
   "outputs": [],
   "source": [
    "with open(r'C:\\Users\\user\\Documents\\python-fundamentals-data-science\\data\\numeros.csv', 'w') as arquivo:\n",
    "    # Cria o objeto de gravação\n",
    "    writer = csv.writer(arquivo)\n",
    "\n",
    "    # Grava no arquivo linha a linha\n",
    "    writer.writerow(('note1', 'nota2', 'nota3'))\n",
    "    writer.writerow((63,87,92))\n",
    "    writer.writerow((61,79,76))\n",
    "    writer.writerow((72,64,91))"
   ]
  },
  {
   "cell_type": "code",
   "execution_count": 12,
   "id": "086424c4",
   "metadata": {},
   "outputs": [
    {
     "name": "stdout",
     "output_type": "stream",
     "text": [
      "['note1', 'nota2', 'nota3']\n",
      "['63', '87', '92']\n",
      "['61', '79', '76']\n",
      "['72', '64', '91']\n"
     ]
    }
   ],
   "source": [
    "# Leitura de arquivos csv\n",
    "\n",
    "with open(r'C:\\Users\\user\\Documents\\python-fundamentals-data-science\\data\\numeros.csv', 'r', encoding='UTF8', newline='\\r\\n') as arquivo:\n",
    "    leitor = csv.reader(arquivo)\n",
    "    for x in leitor:\n",
    "        print(x)"
   ]
  },
  {
   "cell_type": "code",
   "execution_count": 13,
   "id": "8639341f",
   "metadata": {},
   "outputs": [],
   "source": [
    "# Gerando uma lista com dados do arquivo CSV\n",
    "with open(r'C:\\Users\\user\\Documents\\python-fundamentals-data-science\\data\\numeros.csv','r') as arquivo:\n",
    "          leitor = csv.reader(arquivo)\n",
    "          dados = list(leitor)"
   ]
  },
  {
   "cell_type": "code",
   "execution_count": 14,
   "id": "9a1050fd",
   "metadata": {},
   "outputs": [
    {
     "name": "stdout",
     "output_type": "stream",
     "text": [
      "[['note1', 'nota2', 'nota3'], [], ['63', '87', '92'], [], ['61', '79', '76'], [], ['72', '64', '91'], []]\n"
     ]
    }
   ],
   "source": [
    "print(dados)"
   ]
  },
  {
   "cell_type": "code",
   "execution_count": 15,
   "id": "13a86ee0",
   "metadata": {},
   "outputs": [
    {
     "name": "stdout",
     "output_type": "stream",
     "text": [
      "[]\n",
      "['63', '87', '92']\n",
      "[]\n",
      "['61', '79', '76']\n",
      "[]\n",
      "['72', '64', '91']\n",
      "[]\n"
     ]
    }
   ],
   "source": [
    "# Imprimindo a partir da segunda linha\n",
    "for linha in dados[1:]:\n",
    "    print(linha)"
   ]
  },
  {
   "cell_type": "markdown",
   "id": "300a4ab6",
   "metadata": {},
   "source": [
    "### Manipulando arquivos JSON"
   ]
  },
  {
   "cell_type": "code",
   "execution_count": 11,
   "id": "7c811bed",
   "metadata": {},
   "outputs": [],
   "source": [
    "# Criando dicionário\n",
    "dict_guido = {'nome': 'Guido Van Rossum',\n",
    "              'linguagem': 'Python',\n",
    "              'similar': ['c', 'Modula-3', 'lisp'],\n",
    "               'users': 1000000}"
   ]
  },
  {
   "cell_type": "code",
   "execution_count": 12,
   "id": "fc4488de",
   "metadata": {},
   "outputs": [
    {
     "name": "stdout",
     "output_type": "stream",
     "text": [
      "nome Guido Van Rossum\n",
      "linguagem Python\n",
      "similar ['c', 'Modula-3', 'lisp']\n",
      "users 1000000\n"
     ]
    }
   ],
   "source": [
    "for k, v in dict_guido.items():\n",
    "    print(k,v)"
   ]
  },
  {
   "cell_type": "code",
   "execution_count": 13,
   "id": "33402def",
   "metadata": {},
   "outputs": [],
   "source": [
    "# Importando o módulo JSON\n",
    "import json"
   ]
  },
  {
   "cell_type": "code",
   "execution_count": 14,
   "id": "17a3a4aa",
   "metadata": {},
   "outputs": [
    {
     "data": {
      "text/plain": [
       "'{\"nome\": \"Guido Van Rossum\", \"linguagem\": \"Python\", \"similar\": [\"c\", \"Modula-3\", \"lisp\"], \"users\": 1000000}'"
      ]
     },
     "execution_count": 14,
     "metadata": {},
     "output_type": "execute_result"
    }
   ],
   "source": [
    "# Convertendo o dicionário para um objrto JSON\n",
    "json.dumps(dict_guido)"
   ]
  },
  {
   "cell_type": "code",
   "execution_count": 15,
   "id": "e17f1582",
   "metadata": {},
   "outputs": [],
   "source": [
    "# Criando um arquivo JSON\n",
    "with open (r'C:\\Users\\user\\Documents\\python-fundamentals-data-science\\data\\dados.json', 'w') as arquivo:\n",
    "    arquivo.write(json.dumps(dict_guido))"
   ]
  },
  {
   "cell_type": "code",
   "execution_count": 16,
   "id": "d2fa2cba",
   "metadata": {},
   "outputs": [],
   "source": [
    "# Leitura do arquivo JSON\n",
    "with open(r'C:\\Users\\user\\Documents\\python-fundamentals-data-science\\data\\dados.json', 'r') as arquivo:\n",
    "    texto = arquivo.read()\n",
    "    dados = json.loads(texto)"
   ]
  },
  {
   "cell_type": "code",
   "execution_count": 17,
   "id": "3300b677",
   "metadata": {},
   "outputs": [
    {
     "data": {
      "text/plain": [
       "{'nome': 'Guido Van Rossum',\n",
       " 'linguagem': 'Python',\n",
       " 'similar': ['c', 'Modula-3', 'lisp'],\n",
       " 'users': 1000000}"
      ]
     },
     "execution_count": 17,
     "metadata": {},
     "output_type": "execute_result"
    }
   ],
   "source": [
    "dados"
   ]
  },
  {
   "cell_type": "code",
   "execution_count": 18,
   "id": "598c0f6f",
   "metadata": {},
   "outputs": [
    {
     "name": "stdout",
     "output_type": "stream",
     "text": [
      "Guido Van Rossum\n"
     ]
    }
   ],
   "source": [
    "print(dados['nome'])"
   ]
  },
  {
   "cell_type": "code",
   "execution_count": null,
   "id": "03292071",
   "metadata": {},
   "outputs": [],
   "source": []
  }
 ],
 "metadata": {
  "kernelspec": {
   "display_name": "base",
   "language": "python",
   "name": "python3"
  },
  "language_info": {
   "codemirror_mode": {
    "name": "ipython",
    "version": 3
   },
   "file_extension": ".py",
   "mimetype": "text/x-python",
   "name": "python",
   "nbconvert_exporter": "python",
   "pygments_lexer": "ipython3",
   "version": "3.12.7"
  }
 },
 "nbformat": 4,
 "nbformat_minor": 5
}
