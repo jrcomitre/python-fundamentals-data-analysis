{
 "cells": [
  {
   "cell_type": "markdown",
   "id": "d85c3308",
   "metadata": {},
   "source": [
    "### Manipulação de Arquivos\n",
    "\n",
    "Lendo arquivos"
   ]
  },
  {
   "cell_type": "code",
   "execution_count": 5,
   "id": "886df6fc",
   "metadata": {},
   "outputs": [],
   "source": [
    "# Abrindo o arquivo para leitura\n",
    "arql = open(r'C:\\Users\\user\\Documents\\python-fundamentals-data-science\\data\\arquivo1.txt') # r = read"
   ]
  },
  {
   "cell_type": "code",
   "execution_count": 6,
   "id": "1c7aaaf4",
   "metadata": {},
   "outputs": [
    {
     "data": {
      "text/plain": [
       "_io.TextIOWrapper"
      ]
     },
     "execution_count": 6,
     "metadata": {},
     "output_type": "execute_result"
    }
   ],
   "source": [
    "type(arql)"
   ]
  },
  {
   "cell_type": "code",
   "execution_count": 7,
   "id": "403d7d7b",
   "metadata": {},
   "outputs": [
    {
     "name": "stdout",
     "output_type": "stream",
     "text": [
      "A Data Science Academy fornece cursos de alta qualidade e que transmitem muito conhecimento.\n"
     ]
    }
   ],
   "source": [
    "# Lendo o arquivo\n",
    "print(arql.read())"
   ]
  },
  {
   "cell_type": "code",
   "execution_count": 9,
   "id": "4d055727",
   "metadata": {},
   "outputs": [
    {
     "name": "stdout",
     "output_type": "stream",
     "text": [
      "92\n"
     ]
    }
   ],
   "source": [
    "# Contar o número de caracteres\n",
    "print(arql.tell())"
   ]
  },
  {
   "cell_type": "code",
   "execution_count": 10,
   "id": "4eb08ca2",
   "metadata": {},
   "outputs": [
    {
     "name": "stdout",
     "output_type": "stream",
     "text": [
      "0\n"
     ]
    }
   ],
   "source": [
    "# Retornar para o início do arquivo\n",
    "print(arql.seek(0,0))"
   ]
  },
  {
   "cell_type": "code",
   "execution_count": 11,
   "id": "b24198f7",
   "metadata": {},
   "outputs": [
    {
     "name": "stdout",
     "output_type": "stream",
     "text": [
      "A Data Science Academy \n"
     ]
    }
   ],
   "source": [
    "# Lendo os primeiros 23 caracteres\n",
    "print(arql.read(23))"
   ]
  },
  {
   "cell_type": "code",
   "execution_count": null,
   "id": "04fd2e6e",
   "metadata": {},
   "outputs": [],
   "source": []
  }
 ],
 "metadata": {
  "kernelspec": {
   "display_name": "base",
   "language": "python",
   "name": "python3"
  },
  "language_info": {
   "codemirror_mode": {
    "name": "ipython",
    "version": 3
   },
   "file_extension": ".py",
   "mimetype": "text/x-python",
   "name": "python",
   "nbconvert_exporter": "python",
   "pygments_lexer": "ipython3",
   "version": "3.12.7"
  }
 },
 "nbformat": 4,
 "nbformat_minor": 5
}
