{
 "cells": [
  {
   "cell_type": "markdown",
   "id": "d85c3308",
   "metadata": {},
   "source": [
    "### Manipulação de Arquivos\n",
    "\n",
    "Lendo arquivos"
   ]
  },
  {
   "cell_type": "code",
   "execution_count": 5,
   "id": "886df6fc",
   "metadata": {},
   "outputs": [],
   "source": [
    "# Abrindo o arquivo para leitura\n",
    "arql = open(r'C:\\Users\\user\\Documents\\python-fundamentals-data-science\\data\\arquivo1.txt') # r = read"
   ]
  },
  {
   "cell_type": "code",
   "execution_count": 26,
   "id": "1c7aaaf4",
   "metadata": {},
   "outputs": [
    {
     "data": {
      "text/plain": [
       "_io.TextIOWrapper"
      ]
     },
     "execution_count": 26,
     "metadata": {},
     "output_type": "execute_result"
    }
   ],
   "source": [
    "type(arql)"
   ]
  },
  {
   "cell_type": "code",
   "execution_count": 27,
   "id": "403d7d7b",
   "metadata": {},
   "outputs": [
    {
     "name": "stdout",
     "output_type": "stream",
     "text": [
      "fornece cursos de alta qualidade e que transmitem muito conhecimento.\n"
     ]
    }
   ],
   "source": [
    "# Lendo o arquivo\n",
    "print(arql.read())"
   ]
  },
  {
   "cell_type": "code",
   "execution_count": 9,
   "id": "4d055727",
   "metadata": {},
   "outputs": [
    {
     "name": "stdout",
     "output_type": "stream",
     "text": [
      "92\n"
     ]
    }
   ],
   "source": [
    "# Contar o número de caracteres\n",
    "print(arql.tell())"
   ]
  },
  {
   "cell_type": "code",
   "execution_count": 10,
   "id": "4eb08ca2",
   "metadata": {},
   "outputs": [
    {
     "name": "stdout",
     "output_type": "stream",
     "text": [
      "0\n"
     ]
    }
   ],
   "source": [
    "# Retornar para o início do arquivo\n",
    "print(arql.seek(0,0))"
   ]
  },
  {
   "cell_type": "code",
   "execution_count": 11,
   "id": "b24198f7",
   "metadata": {},
   "outputs": [
    {
     "name": "stdout",
     "output_type": "stream",
     "text": [
      "A Data Science Academy \n"
     ]
    }
   ],
   "source": [
    "# Lendo os primeiros 23 caracteres\n",
    "print(arql.read(23))"
   ]
  },
  {
   "cell_type": "markdown",
   "id": "40b96f38",
   "metadata": {},
   "source": [
    "### Gravando Arquivos"
   ]
  },
  {
   "cell_type": "code",
   "execution_count": 37,
   "id": "04fd2e6e",
   "metadata": {},
   "outputs": [],
   "source": [
    "# Abrindo arquivo para gravação\n",
    "arq2 = open(r'C:\\Users\\user\\Documents\\python-fundamentals-data-science\\data\\arquivo2.txt', 'w') # w = write"
   ]
  },
  {
   "cell_type": "code",
   "execution_count": 38,
   "id": "05097520",
   "metadata": {},
   "outputs": [
    {
     "ename": "UnsupportedOperation",
     "evalue": "not readable",
     "output_type": "error",
     "traceback": [
      "\u001b[1;31m---------------------------------------------------------------------------\u001b[0m",
      "\u001b[1;31mUnsupportedOperation\u001b[0m                      Traceback (most recent call last)",
      "Cell \u001b[1;32mIn[38], line 2\u001b[0m\n\u001b[0;32m      1\u001b[0m \u001b[38;5;66;03m# Como abrimos o arquivo apenas para gravação, não podemos usar comandos de leitura.\u001b[39;00m\n\u001b[1;32m----> 2\u001b[0m \u001b[38;5;28mprint\u001b[39m(\u001b[43marq2\u001b[49m\u001b[38;5;241;43m.\u001b[39;49m\u001b[43mread\u001b[49m\u001b[43m(\u001b[49m\u001b[43m)\u001b[49m)\n",
      "\u001b[1;31mUnsupportedOperation\u001b[0m: not readable"
     ]
    }
   ],
   "source": [
    "# Como abrimos o arquivo apenas para gravação, não podemos usar comandos de leitura.\n",
    "print(arq2.read())"
   ]
  },
  {
   "cell_type": "code",
   "execution_count": 39,
   "id": "9868ae1c",
   "metadata": {},
   "outputs": [
    {
     "data": {
      "text/plain": [
       "34"
      ]
     },
     "execution_count": 39,
     "metadata": {},
     "output_type": "execute_result"
    }
   ],
   "source": [
    "# Gravando arquivo\n",
    "arq2.write('Aprendendo a programar em Python. ')"
   ]
  },
  {
   "cell_type": "code",
   "execution_count": 40,
   "id": "e1adc753",
   "metadata": {},
   "outputs": [],
   "source": [
    "arq2.close()"
   ]
  },
  {
   "cell_type": "code",
   "execution_count": 41,
   "id": "1798135d",
   "metadata": {},
   "outputs": [],
   "source": [
    "# Lendo arquivo gravado\n",
    "arq2 = open(r'C:\\Users\\user\\Documents\\python-fundamentals-data-science\\data\\arquivo2.txt', 'r')"
   ]
  },
  {
   "cell_type": "code",
   "execution_count": 42,
   "id": "001a1502",
   "metadata": {},
   "outputs": [
    {
     "name": "stdout",
     "output_type": "stream",
     "text": [
      "Aprendendo a programar em Python. \n"
     ]
    }
   ],
   "source": [
    "print(arq2.read())"
   ]
  },
  {
   "cell_type": "code",
   "execution_count": 43,
   "id": "7af09aee",
   "metadata": {},
   "outputs": [],
   "source": [
    "# Acrescentando conteúdo\n",
    "arq2 = open(r'C:\\Users\\user\\Documents\\python-fundamentals-data-science\\data\\arquivo2.txt', 'a') # a = append"
   ]
  },
  {
   "cell_type": "code",
   "execution_count": 44,
   "id": "b4a401f8",
   "metadata": {},
   "outputs": [
    {
     "data": {
      "text/plain": [
       "73"
      ]
     },
     "execution_count": 44,
     "metadata": {},
     "output_type": "execute_result"
    }
   ],
   "source": [
    "arq2.write('E a metodologia de ensino da Data Science Academy facilita o aprendizado.')"
   ]
  },
  {
   "cell_type": "code",
   "execution_count": 45,
   "id": "8f4bd0fe",
   "metadata": {},
   "outputs": [],
   "source": [
    "arq2.close()"
   ]
  },
  {
   "cell_type": "code",
   "execution_count": 46,
   "id": "521045c2",
   "metadata": {},
   "outputs": [],
   "source": [
    "arq2 = open(r'C:\\Users\\user\\Documents\\python-fundamentals-data-science\\data\\arquivo2.txt')"
   ]
  },
  {
   "cell_type": "code",
   "execution_count": 47,
   "id": "f7e6c46e",
   "metadata": {},
   "outputs": [
    {
     "name": "stdout",
     "output_type": "stream",
     "text": [
      "Aprendendo a programar em Python. E a metodologia de ensino da Data Science Academy facilita o aprendizado.\n"
     ]
    }
   ],
   "source": [
    "print(arq2.read())"
   ]
  },
  {
   "cell_type": "code",
   "execution_count": 48,
   "id": "47d1c6bd",
   "metadata": {},
   "outputs": [
    {
     "data": {
      "text/plain": [
       "0"
      ]
     },
     "execution_count": 48,
     "metadata": {},
     "output_type": "execute_result"
    }
   ],
   "source": [
    "# Retornando ao início do arquivo para leitura\n",
    "arq2.seek(0,0)"
   ]
  },
  {
   "cell_type": "code",
   "execution_count": 49,
   "id": "20d98ee1",
   "metadata": {},
   "outputs": [
    {
     "name": "stdout",
     "output_type": "stream",
     "text": [
      "Aprendendo a programar em Python. E a metodologia de ensino da Data Science Academy facilita o aprendizado.\n"
     ]
    }
   ],
   "source": [
    "print(arq2.read())"
   ]
  },
  {
   "cell_type": "markdown",
   "id": "4aab6475",
   "metadata": {},
   "source": [
    "### Abrindo Dataset em linha Única"
   ]
  },
  {
   "cell_type": "code",
   "execution_count": 52,
   "id": "e8fc4c95",
   "metadata": {},
   "outputs": [],
   "source": [
    "f = open(r'C:\\Users\\user\\Documents\\python-fundamentals-data-science\\data\\salarios.csv', 'r')"
   ]
  },
  {
   "cell_type": "code",
   "execution_count": null,
   "id": "ae433437",
   "metadata": {},
   "outputs": [],
   "source": []
  }
 ],
 "metadata": {
  "kernelspec": {
   "display_name": "base",
   "language": "python",
   "name": "python3"
  },
  "language_info": {
   "codemirror_mode": {
    "name": "ipython",
    "version": 3
   },
   "file_extension": ".py",
   "mimetype": "text/x-python",
   "name": "python",
   "nbconvert_exporter": "python",
   "pygments_lexer": "ipython3",
   "version": "3.12.7"
  }
 },
 "nbformat": 4,
 "nbformat_minor": 5
}
